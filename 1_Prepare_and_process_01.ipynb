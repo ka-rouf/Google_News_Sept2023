{
 "cells": [
  {
   "cell_type": "markdown",
   "id": "5059d29f",
   "metadata": {
    "papermill": {
     "duration": 0.01156,
     "end_time": "2023-11-03T02:31:02.299395",
     "exception": false,
     "start_time": "2023-11-03T02:31:02.287835",
     "status": "completed"
    },
    "tags": []
   },
   "source": [
    "# Preparing for my First Exploratory Data Analysis (EDA)"
   ]
  },
  {
   "cell_type": "markdown",
   "id": "f2422ba3",
   "metadata": {
    "papermill": {
     "duration": 0.01106,
     "end_time": "2023-11-03T02:31:02.321852",
     "exception": false,
     "start_time": "2023-11-03T02:31:02.310792",
     "status": "completed"
    },
    "tags": []
   },
   "source": [
    "Hello, everyone! This is my first Kaggle public notebook, and I'll be honest, it might be a bit all over the place. But, I'd really appreciate your thoughts, feedback, and comments on the code, content, structure, and writing style. Your insights are highly appreciated."
   ]
  },
  {
   "cell_type": "markdown",
   "id": "05e6df58",
   "metadata": {
    "papermill": {
     "duration": 0.010711,
     "end_time": "2023-11-03T02:31:02.343568",
     "exception": false,
     "start_time": "2023-11-03T02:31:02.332857",
     "status": "completed"
    },
    "tags": []
   },
   "source": [
    "The purpose of this notebook is to prepare and process the CSV file from Kaggle's dataset created by CRXXOM (https://www.kaggle.com/datasets/crxxom/daily-google-news/data) to make it ready for my project. For my first project, I won't be using Python for EDA; instead, I'll be using SQL. I aim to enhance my understanding of SQL, specifically MySQL, before delving deeper into Python's libraries. I'm simply using this notebook with the Pandas library imported for the prepare and process phases because it is faster than using spreadsheets. Additionally, it is easier to document the process when I can share it publicly."
   ]
  },
  {
   "cell_type": "code",
   "execution_count": 1,
   "id": "3e42f4c9",
   "metadata": {
    "execution": {
     "iopub.execute_input": "2023-11-03T02:31:02.369125Z",
     "iopub.status.busy": "2023-11-03T02:31:02.367772Z",
     "iopub.status.idle": "2023-11-03T02:31:02.886757Z",
     "shell.execute_reply": "2023-11-03T02:31:02.885263Z"
    },
    "papermill": {
     "duration": 0.536194,
     "end_time": "2023-11-03T02:31:02.890720",
     "exception": false,
     "start_time": "2023-11-03T02:31:02.354526",
     "status": "completed"
    },
    "tags": []
   },
   "outputs": [],
   "source": [
    "# Import Pandas library\n",
    "import pandas as pd"
   ]
  },
  {
   "cell_type": "code",
   "execution_count": 2,
   "id": "91e4b48d",
   "metadata": {
    "execution": {
     "iopub.execute_input": "2023-11-03T02:31:02.918123Z",
     "iopub.status.busy": "2023-11-03T02:31:02.917030Z",
     "iopub.status.idle": "2023-11-03T02:31:03.701054Z",
     "shell.execute_reply": "2023-11-03T02:31:03.699485Z"
    },
    "papermill": {
     "duration": 0.801437,
     "end_time": "2023-11-03T02:31:03.704229",
     "exception": false,
     "start_time": "2023-11-03T02:31:02.902792",
     "status": "completed"
    },
    "tags": []
   },
   "outputs": [
    {
     "data": {
      "text/html": [
       "<div>\n",
       "<style scoped>\n",
       "    .dataframe tbody tr th:only-of-type {\n",
       "        vertical-align: middle;\n",
       "    }\n",
       "\n",
       "    .dataframe tbody tr th {\n",
       "        vertical-align: top;\n",
       "    }\n",
       "\n",
       "    .dataframe thead th {\n",
       "        text-align: right;\n",
       "    }\n",
       "</style>\n",
       "<table border=\"1\" class=\"dataframe\">\n",
       "  <thead>\n",
       "    <tr style=\"text-align: right;\">\n",
       "      <th></th>\n",
       "      <th>Title</th>\n",
       "      <th>Publisher</th>\n",
       "      <th>DateTime</th>\n",
       "      <th>Link</th>\n",
       "      <th>Category</th>\n",
       "    </tr>\n",
       "  </thead>\n",
       "  <tbody>\n",
       "    <tr>\n",
       "      <th>0</th>\n",
       "      <td>Chainlink (LINK) Falters, Hedera (HBAR) Wobble...</td>\n",
       "      <td>Analytics Insight</td>\n",
       "      <td>2023-08-30T06:54:49Z</td>\n",
       "      <td>https://news.google.com/articles/CBMibGh0dHBzO...</td>\n",
       "      <td>Business</td>\n",
       "    </tr>\n",
       "    <tr>\n",
       "      <th>1</th>\n",
       "      <td>Funds punished for owning too few Nvidia share...</td>\n",
       "      <td>ZAWYA</td>\n",
       "      <td>2023-08-30T07:15:59Z</td>\n",
       "      <td>https://news.google.com/articles/CBMigwFodHRwc...</td>\n",
       "      <td>Business</td>\n",
       "    </tr>\n",
       "    <tr>\n",
       "      <th>2</th>\n",
       "      <td>Crude oil prices stalled as hedge funds sold: ...</td>\n",
       "      <td>ZAWYA</td>\n",
       "      <td>2023-08-30T07:31:31Z</td>\n",
       "      <td>https://news.google.com/articles/CBMibGh0dHBzO...</td>\n",
       "      <td>Business</td>\n",
       "    </tr>\n",
       "    <tr>\n",
       "      <th>3</th>\n",
       "      <td>Grayscale's Bitcoin Win Is Still Only Half the...</td>\n",
       "      <td>Bloomberg</td>\n",
       "      <td>2023-08-30T10:38:40Z</td>\n",
       "      <td>https://news.google.com/articles/CBMib2h0dHBzO...</td>\n",
       "      <td>Business</td>\n",
       "    </tr>\n",
       "    <tr>\n",
       "      <th>4</th>\n",
       "      <td>I'm a Home Shopping Editor, and These Are the ...</td>\n",
       "      <td>Better Homes &amp; Gardens</td>\n",
       "      <td>2023-08-30T11:00:00Z</td>\n",
       "      <td>https://news.google.com/articles/CBMiPWh0dHBzO...</td>\n",
       "      <td>Business</td>\n",
       "    </tr>\n",
       "    <tr>\n",
       "      <th>...</th>\n",
       "      <td>...</td>\n",
       "      <td>...</td>\n",
       "      <td>...</td>\n",
       "      <td>...</td>\n",
       "      <td>...</td>\n",
       "    </tr>\n",
       "    <tr>\n",
       "      <th>51297</th>\n",
       "      <td>Slovakia's Election Could Echo in Ukraine. Her...</td>\n",
       "      <td>The New York Times</td>\n",
       "      <td>2023-09-30T04:01:14Z</td>\n",
       "      <td>https://news.google.com/articles/CBMiU2h0dHBzO...</td>\n",
       "      <td>Worldwide</td>\n",
       "    </tr>\n",
       "    <tr>\n",
       "      <th>51298</th>\n",
       "      <td>Things to know about the Nobel Prizes - The Wa...</td>\n",
       "      <td>The Washington Post</td>\n",
       "      <td>2023-09-30T04:26:44Z</td>\n",
       "      <td>https://news.google.com/articles/CBMimQFodHRwc...</td>\n",
       "      <td>Worldwide</td>\n",
       "    </tr>\n",
       "    <tr>\n",
       "      <th>51299</th>\n",
       "      <td>After brief calm, protests against killing of ...</td>\n",
       "      <td>Hindustan Times</td>\n",
       "      <td>2023-09-30T04:51:51Z</td>\n",
       "      <td>https://news.google.com/articles/CBMikgFodHRwc...</td>\n",
       "      <td>Worldwide</td>\n",
       "    </tr>\n",
       "    <tr>\n",
       "      <th>51300</th>\n",
       "      <td>‘No one is safe’: France vows action as bedbug...</td>\n",
       "      <td>CNN</td>\n",
       "      <td>2023-09-30T04:58:00Z</td>\n",
       "      <td>https://news.google.com/articles/CBMiTmh0dHBzO...</td>\n",
       "      <td>Worldwide</td>\n",
       "    </tr>\n",
       "    <tr>\n",
       "      <th>51301</th>\n",
       "      <td>Slovakia election: polls open in knife-edge vo...</td>\n",
       "      <td>The Guardian</td>\n",
       "      <td>2023-09-30T05:00:00Z</td>\n",
       "      <td>https://news.google.com/articles/CBMieWh0dHBzO...</td>\n",
       "      <td>Worldwide</td>\n",
       "    </tr>\n",
       "  </tbody>\n",
       "</table>\n",
       "<p>51302 rows × 5 columns</p>\n",
       "</div>"
      ],
      "text/plain": [
       "                                                   Title  \\\n",
       "0      Chainlink (LINK) Falters, Hedera (HBAR) Wobble...   \n",
       "1      Funds punished for owning too few Nvidia share...   \n",
       "2      Crude oil prices stalled as hedge funds sold: ...   \n",
       "3      Grayscale's Bitcoin Win Is Still Only Half the...   \n",
       "4      I'm a Home Shopping Editor, and These Are the ...   \n",
       "...                                                  ...   \n",
       "51297  Slovakia's Election Could Echo in Ukraine. Her...   \n",
       "51298  Things to know about the Nobel Prizes - The Wa...   \n",
       "51299  After brief calm, protests against killing of ...   \n",
       "51300  ‘No one is safe’: France vows action as bedbug...   \n",
       "51301  Slovakia election: polls open in knife-edge vo...   \n",
       "\n",
       "                    Publisher              DateTime  \\\n",
       "0           Analytics Insight  2023-08-30T06:54:49Z   \n",
       "1                       ZAWYA  2023-08-30T07:15:59Z   \n",
       "2                       ZAWYA  2023-08-30T07:31:31Z   \n",
       "3                   Bloomberg  2023-08-30T10:38:40Z   \n",
       "4      Better Homes & Gardens  2023-08-30T11:00:00Z   \n",
       "...                       ...                   ...   \n",
       "51297      The New York Times  2023-09-30T04:01:14Z   \n",
       "51298     The Washington Post  2023-09-30T04:26:44Z   \n",
       "51299         Hindustan Times  2023-09-30T04:51:51Z   \n",
       "51300                     CNN  2023-09-30T04:58:00Z   \n",
       "51301            The Guardian  2023-09-30T05:00:00Z   \n",
       "\n",
       "                                                    Link   Category  \n",
       "0      https://news.google.com/articles/CBMibGh0dHBzO...   Business  \n",
       "1      https://news.google.com/articles/CBMigwFodHRwc...   Business  \n",
       "2      https://news.google.com/articles/CBMibGh0dHBzO...   Business  \n",
       "3      https://news.google.com/articles/CBMib2h0dHBzO...   Business  \n",
       "4      https://news.google.com/articles/CBMiPWh0dHBzO...   Business  \n",
       "...                                                  ...        ...  \n",
       "51297  https://news.google.com/articles/CBMiU2h0dHBzO...  Worldwide  \n",
       "51298  https://news.google.com/articles/CBMimQFodHRwc...  Worldwide  \n",
       "51299  https://news.google.com/articles/CBMikgFodHRwc...  Worldwide  \n",
       "51300  https://news.google.com/articles/CBMiTmh0dHBzO...  Worldwide  \n",
       "51301  https://news.google.com/articles/CBMieWh0dHBzO...  Worldwide  \n",
       "\n",
       "[51302 rows x 5 columns]"
      ]
     },
     "execution_count": 2,
     "metadata": {},
     "output_type": "execute_result"
    }
   ],
   "source": [
    "# Load the csv file from the source to my notebook\n",
    "df = pd.read_csv(\"/kaggle/input/daily-google-news/2023_9.csv\")\n",
    "# Preview of 'df' DataFrame\n",
    "df"
   ]
  },
  {
   "cell_type": "markdown",
   "id": "13e04087",
   "metadata": {
    "papermill": {
     "duration": 0.011315,
     "end_time": "2023-11-03T02:31:03.727033",
     "exception": false,
     "start_time": "2023-11-03T02:31:03.715718",
     "status": "completed"
    },
    "tags": []
   },
   "source": [
    "It appears that the table consists of 51,302 records."
   ]
  },
  {
   "cell_type": "markdown",
   "id": "766448f7",
   "metadata": {
    "papermill": {
     "duration": 0.012521,
     "end_time": "2023-11-03T02:31:03.751072",
     "exception": false,
     "start_time": "2023-11-03T02:31:03.738551",
     "status": "completed"
    },
    "tags": []
   },
   "source": [
    " Now, let's check the possibility of having records with null values."
   ]
  },
  {
   "cell_type": "code",
   "execution_count": 3,
   "id": "2cc98d61",
   "metadata": {
    "execution": {
     "iopub.execute_input": "2023-11-03T02:31:03.778418Z",
     "iopub.status.busy": "2023-11-03T02:31:03.778027Z",
     "iopub.status.idle": "2023-11-03T02:31:03.818221Z",
     "shell.execute_reply": "2023-11-03T02:31:03.816788Z"
    },
    "papermill": {
     "duration": 0.056517,
     "end_time": "2023-11-03T02:31:03.821228",
     "exception": false,
     "start_time": "2023-11-03T02:31:03.764711",
     "status": "completed"
    },
    "tags": []
   },
   "outputs": [
    {
     "data": {
      "text/plain": [
       "Title        0\n",
       "Publisher    0\n",
       "DateTime     0\n",
       "Link         0\n",
       "Category     0\n",
       "dtype: int64"
      ]
     },
     "execution_count": 3,
     "metadata": {},
     "output_type": "execute_result"
    }
   ],
   "source": [
    "# Checking for the possibility of columns with null values\n",
    "df.isnull().sum()"
   ]
  },
  {
   "cell_type": "markdown",
   "id": "468abfc1",
   "metadata": {
    "papermill": {
     "duration": 0.012363,
     "end_time": "2023-11-03T02:31:03.847852",
     "exception": false,
     "start_time": "2023-11-03T02:31:03.835489",
     "status": "completed"
    },
    "tags": []
   },
   "source": [
    "There are no null values in the records."
   ]
  },
  {
   "cell_type": "markdown",
   "id": "97b135e4",
   "metadata": {
    "papermill": {
     "duration": 0.011052,
     "end_time": "2023-11-03T02:31:03.870514",
     "exception": false,
     "start_time": "2023-11-03T02:31:03.859462",
     "status": "completed"
    },
    "tags": []
   },
   "source": [
    "Now, let's examine the structure of the DataFrame."
   ]
  },
  {
   "cell_type": "code",
   "execution_count": 4,
   "id": "0179be5a",
   "metadata": {
    "execution": {
     "iopub.execute_input": "2023-11-03T02:31:03.895478Z",
     "iopub.status.busy": "2023-11-03T02:31:03.895110Z",
     "iopub.status.idle": "2023-11-03T02:31:03.955203Z",
     "shell.execute_reply": "2023-11-03T02:31:03.953250Z"
    },
    "papermill": {
     "duration": 0.07634,
     "end_time": "2023-11-03T02:31:03.958505",
     "exception": false,
     "start_time": "2023-11-03T02:31:03.882165",
     "status": "completed"
    },
    "tags": []
   },
   "outputs": [
    {
     "name": "stdout",
     "output_type": "stream",
     "text": [
      "<class 'pandas.core.frame.DataFrame'>\n",
      "RangeIndex: 51302 entries, 0 to 51301\n",
      "Data columns (total 5 columns):\n",
      " #   Column     Non-Null Count  Dtype \n",
      "---  ------     --------------  ----- \n",
      " 0   Title      51302 non-null  object\n",
      " 1   Publisher  51302 non-null  object\n",
      " 2   DateTime   51302 non-null  object\n",
      " 3   Link       51302 non-null  object\n",
      " 4   Category   51302 non-null  object\n",
      "dtypes: object(5)\n",
      "memory usage: 2.0+ MB\n"
     ]
    }
   ],
   "source": [
    "# Checking the DataFrame structure\n",
    "df.info()"
   ]
  },
  {
   "cell_type": "markdown",
   "id": "dfd1c431",
   "metadata": {
    "papermill": {
     "duration": 0.0137,
     "end_time": "2023-11-03T02:31:03.984326",
     "exception": false,
     "start_time": "2023-11-03T02:31:03.970626",
     "status": "completed"
    },
    "tags": []
   },
   "source": [
    "Since all columns have non-null values by default, which is a good start for data cleaning. "
   ]
  },
  {
   "cell_type": "markdown",
   "id": "4b4a984f",
   "metadata": {
    "papermill": {
     "duration": 0.013686,
     "end_time": "2023-11-03T02:31:04.011222",
     "exception": false,
     "start_time": "2023-11-03T02:31:03.997536",
     "status": "completed"
    },
    "tags": []
   },
   "source": [
    "I'll proceed to a minor cleanup by removing the 'T' and 'Z' from the DateTime column."
   ]
  },
  {
   "cell_type": "code",
   "execution_count": 5,
   "id": "aa934581",
   "metadata": {
    "execution": {
     "iopub.execute_input": "2023-11-03T02:31:04.039304Z",
     "iopub.status.busy": "2023-11-03T02:31:04.038502Z",
     "iopub.status.idle": "2023-11-03T02:31:04.515528Z",
     "shell.execute_reply": "2023-11-03T02:31:04.514161Z"
    },
    "papermill": {
     "duration": 0.493885,
     "end_time": "2023-11-03T02:31:04.518727",
     "exception": false,
     "start_time": "2023-11-03T02:31:04.024842",
     "status": "completed"
    },
    "tags": []
   },
   "outputs": [],
   "source": [
    "# Convert the 'DateTime' column to datetime format\n",
    "df['DateTime'] = pd.to_datetime(df['DateTime'], format='%Y-%m-%dT%H:%M:%SZ')\n",
    "\n",
    "# Format the column (removing the 'T' and 'Z' ('YYYY-MM-DD HH:MM:SS')\n",
    "df['DateTime'] = df['DateTime'].dt.strftime('%Y-%m-%d %H:%M:%S')"
   ]
  },
  {
   "cell_type": "code",
   "execution_count": 6,
   "id": "4b92fa35",
   "metadata": {
    "execution": {
     "iopub.execute_input": "2023-11-03T02:31:04.544076Z",
     "iopub.status.busy": "2023-11-03T02:31:04.543553Z",
     "iopub.status.idle": "2023-11-03T02:31:04.561507Z",
     "shell.execute_reply": "2023-11-03T02:31:04.560336Z"
    },
    "papermill": {
     "duration": 0.034234,
     "end_time": "2023-11-03T02:31:04.564258",
     "exception": false,
     "start_time": "2023-11-03T02:31:04.530024",
     "status": "completed"
    },
    "tags": []
   },
   "outputs": [
    {
     "data": {
      "text/html": [
       "<div>\n",
       "<style scoped>\n",
       "    .dataframe tbody tr th:only-of-type {\n",
       "        vertical-align: middle;\n",
       "    }\n",
       "\n",
       "    .dataframe tbody tr th {\n",
       "        vertical-align: top;\n",
       "    }\n",
       "\n",
       "    .dataframe thead th {\n",
       "        text-align: right;\n",
       "    }\n",
       "</style>\n",
       "<table border=\"1\" class=\"dataframe\">\n",
       "  <thead>\n",
       "    <tr style=\"text-align: right;\">\n",
       "      <th></th>\n",
       "      <th>Title</th>\n",
       "      <th>Publisher</th>\n",
       "      <th>DateTime</th>\n",
       "      <th>Link</th>\n",
       "      <th>Category</th>\n",
       "    </tr>\n",
       "  </thead>\n",
       "  <tbody>\n",
       "    <tr>\n",
       "      <th>0</th>\n",
       "      <td>Chainlink (LINK) Falters, Hedera (HBAR) Wobble...</td>\n",
       "      <td>Analytics Insight</td>\n",
       "      <td>2023-08-30 06:54:49</td>\n",
       "      <td>https://news.google.com/articles/CBMibGh0dHBzO...</td>\n",
       "      <td>Business</td>\n",
       "    </tr>\n",
       "    <tr>\n",
       "      <th>1</th>\n",
       "      <td>Funds punished for owning too few Nvidia share...</td>\n",
       "      <td>ZAWYA</td>\n",
       "      <td>2023-08-30 07:15:59</td>\n",
       "      <td>https://news.google.com/articles/CBMigwFodHRwc...</td>\n",
       "      <td>Business</td>\n",
       "    </tr>\n",
       "    <tr>\n",
       "      <th>2</th>\n",
       "      <td>Crude oil prices stalled as hedge funds sold: ...</td>\n",
       "      <td>ZAWYA</td>\n",
       "      <td>2023-08-30 07:31:31</td>\n",
       "      <td>https://news.google.com/articles/CBMibGh0dHBzO...</td>\n",
       "      <td>Business</td>\n",
       "    </tr>\n",
       "    <tr>\n",
       "      <th>3</th>\n",
       "      <td>Grayscale's Bitcoin Win Is Still Only Half the...</td>\n",
       "      <td>Bloomberg</td>\n",
       "      <td>2023-08-30 10:38:40</td>\n",
       "      <td>https://news.google.com/articles/CBMib2h0dHBzO...</td>\n",
       "      <td>Business</td>\n",
       "    </tr>\n",
       "    <tr>\n",
       "      <th>4</th>\n",
       "      <td>I'm a Home Shopping Editor, and These Are the ...</td>\n",
       "      <td>Better Homes &amp; Gardens</td>\n",
       "      <td>2023-08-30 11:00:00</td>\n",
       "      <td>https://news.google.com/articles/CBMiPWh0dHBzO...</td>\n",
       "      <td>Business</td>\n",
       "    </tr>\n",
       "    <tr>\n",
       "      <th>...</th>\n",
       "      <td>...</td>\n",
       "      <td>...</td>\n",
       "      <td>...</td>\n",
       "      <td>...</td>\n",
       "      <td>...</td>\n",
       "    </tr>\n",
       "    <tr>\n",
       "      <th>51297</th>\n",
       "      <td>Slovakia's Election Could Echo in Ukraine. Her...</td>\n",
       "      <td>The New York Times</td>\n",
       "      <td>2023-09-30 04:01:14</td>\n",
       "      <td>https://news.google.com/articles/CBMiU2h0dHBzO...</td>\n",
       "      <td>Worldwide</td>\n",
       "    </tr>\n",
       "    <tr>\n",
       "      <th>51298</th>\n",
       "      <td>Things to know about the Nobel Prizes - The Wa...</td>\n",
       "      <td>The Washington Post</td>\n",
       "      <td>2023-09-30 04:26:44</td>\n",
       "      <td>https://news.google.com/articles/CBMimQFodHRwc...</td>\n",
       "      <td>Worldwide</td>\n",
       "    </tr>\n",
       "    <tr>\n",
       "      <th>51299</th>\n",
       "      <td>After brief calm, protests against killing of ...</td>\n",
       "      <td>Hindustan Times</td>\n",
       "      <td>2023-09-30 04:51:51</td>\n",
       "      <td>https://news.google.com/articles/CBMikgFodHRwc...</td>\n",
       "      <td>Worldwide</td>\n",
       "    </tr>\n",
       "    <tr>\n",
       "      <th>51300</th>\n",
       "      <td>‘No one is safe’: France vows action as bedbug...</td>\n",
       "      <td>CNN</td>\n",
       "      <td>2023-09-30 04:58:00</td>\n",
       "      <td>https://news.google.com/articles/CBMiTmh0dHBzO...</td>\n",
       "      <td>Worldwide</td>\n",
       "    </tr>\n",
       "    <tr>\n",
       "      <th>51301</th>\n",
       "      <td>Slovakia election: polls open in knife-edge vo...</td>\n",
       "      <td>The Guardian</td>\n",
       "      <td>2023-09-30 05:00:00</td>\n",
       "      <td>https://news.google.com/articles/CBMieWh0dHBzO...</td>\n",
       "      <td>Worldwide</td>\n",
       "    </tr>\n",
       "  </tbody>\n",
       "</table>\n",
       "<p>51302 rows × 5 columns</p>\n",
       "</div>"
      ],
      "text/plain": [
       "                                                   Title  \\\n",
       "0      Chainlink (LINK) Falters, Hedera (HBAR) Wobble...   \n",
       "1      Funds punished for owning too few Nvidia share...   \n",
       "2      Crude oil prices stalled as hedge funds sold: ...   \n",
       "3      Grayscale's Bitcoin Win Is Still Only Half the...   \n",
       "4      I'm a Home Shopping Editor, and These Are the ...   \n",
       "...                                                  ...   \n",
       "51297  Slovakia's Election Could Echo in Ukraine. Her...   \n",
       "51298  Things to know about the Nobel Prizes - The Wa...   \n",
       "51299  After brief calm, protests against killing of ...   \n",
       "51300  ‘No one is safe’: France vows action as bedbug...   \n",
       "51301  Slovakia election: polls open in knife-edge vo...   \n",
       "\n",
       "                    Publisher             DateTime  \\\n",
       "0           Analytics Insight  2023-08-30 06:54:49   \n",
       "1                       ZAWYA  2023-08-30 07:15:59   \n",
       "2                       ZAWYA  2023-08-30 07:31:31   \n",
       "3                   Bloomberg  2023-08-30 10:38:40   \n",
       "4      Better Homes & Gardens  2023-08-30 11:00:00   \n",
       "...                       ...                  ...   \n",
       "51297      The New York Times  2023-09-30 04:01:14   \n",
       "51298     The Washington Post  2023-09-30 04:26:44   \n",
       "51299         Hindustan Times  2023-09-30 04:51:51   \n",
       "51300                     CNN  2023-09-30 04:58:00   \n",
       "51301            The Guardian  2023-09-30 05:00:00   \n",
       "\n",
       "                                                    Link   Category  \n",
       "0      https://news.google.com/articles/CBMibGh0dHBzO...   Business  \n",
       "1      https://news.google.com/articles/CBMigwFodHRwc...   Business  \n",
       "2      https://news.google.com/articles/CBMibGh0dHBzO...   Business  \n",
       "3      https://news.google.com/articles/CBMib2h0dHBzO...   Business  \n",
       "4      https://news.google.com/articles/CBMiPWh0dHBzO...   Business  \n",
       "...                                                  ...        ...  \n",
       "51297  https://news.google.com/articles/CBMiU2h0dHBzO...  Worldwide  \n",
       "51298  https://news.google.com/articles/CBMimQFodHRwc...  Worldwide  \n",
       "51299  https://news.google.com/articles/CBMikgFodHRwc...  Worldwide  \n",
       "51300  https://news.google.com/articles/CBMiTmh0dHBzO...  Worldwide  \n",
       "51301  https://news.google.com/articles/CBMieWh0dHBzO...  Worldwide  \n",
       "\n",
       "[51302 rows x 5 columns]"
      ]
     },
     "execution_count": 6,
     "metadata": {},
     "output_type": "execute_result"
    }
   ],
   "source": [
    "# Reviewing the condition\n",
    "df"
   ]
  },
  {
   "cell_type": "markdown",
   "id": "6061d25f",
   "metadata": {
    "papermill": {
     "duration": 0.012361,
     "end_time": "2023-11-03T02:31:04.588739",
     "exception": false,
     "start_time": "2023-11-03T02:31:04.576378",
     "status": "completed"
    },
    "tags": []
   },
   "source": [
    "With the columns cleaned and formatted to my preferences, I'll now proceed to adjust the column names and their order."
   ]
  },
  {
   "cell_type": "code",
   "execution_count": 7,
   "id": "ca9e5901",
   "metadata": {
    "execution": {
     "iopub.execute_input": "2023-11-03T02:31:04.615749Z",
     "iopub.status.busy": "2023-11-03T02:31:04.614424Z",
     "iopub.status.idle": "2023-11-03T02:31:04.645613Z",
     "shell.execute_reply": "2023-11-03T02:31:04.644209Z"
    },
    "papermill": {
     "duration": 0.047541,
     "end_time": "2023-11-03T02:31:04.648650",
     "exception": false,
     "start_time": "2023-11-03T02:31:04.601109",
     "status": "completed"
    },
    "tags": []
   },
   "outputs": [],
   "source": [
    "# Rename the 'DateTime' column to 'publishtime' to provide more context. Modify other columns to lowercase to adhere to SQL standards\n",
    "df = df.rename(columns={'DateTime': 'publishtime', 'Title': 'title', 'Publisher':'publisher', 'Link':'link', 'Category':'category'})"
   ]
  },
  {
   "cell_type": "code",
   "execution_count": 8,
   "id": "9c3b7de5",
   "metadata": {
    "execution": {
     "iopub.execute_input": "2023-11-03T02:31:04.674905Z",
     "iopub.status.busy": "2023-11-03T02:31:04.674463Z",
     "iopub.status.idle": "2023-11-03T02:31:04.690056Z",
     "shell.execute_reply": "2023-11-03T02:31:04.688776Z"
    },
    "papermill": {
     "duration": 0.031687,
     "end_time": "2023-11-03T02:31:04.692749",
     "exception": false,
     "start_time": "2023-11-03T02:31:04.661062",
     "status": "completed"
    },
    "tags": []
   },
   "outputs": [],
   "source": [
    "# Rearrange the columns' order\n",
    "df = df[['publishtime', 'publisher', 'category', 'link', 'title']]"
   ]
  },
  {
   "cell_type": "code",
   "execution_count": 9,
   "id": "14d93b55",
   "metadata": {
    "execution": {
     "iopub.execute_input": "2023-11-03T02:31:04.719073Z",
     "iopub.status.busy": "2023-11-03T02:31:04.718615Z",
     "iopub.status.idle": "2023-11-03T02:31:04.736028Z",
     "shell.execute_reply": "2023-11-03T02:31:04.734472Z"
    },
    "papermill": {
     "duration": 0.03401,
     "end_time": "2023-11-03T02:31:04.738846",
     "exception": false,
     "start_time": "2023-11-03T02:31:04.704836",
     "status": "completed"
    },
    "tags": []
   },
   "outputs": [
    {
     "data": {
      "text/html": [
       "<div>\n",
       "<style scoped>\n",
       "    .dataframe tbody tr th:only-of-type {\n",
       "        vertical-align: middle;\n",
       "    }\n",
       "\n",
       "    .dataframe tbody tr th {\n",
       "        vertical-align: top;\n",
       "    }\n",
       "\n",
       "    .dataframe thead th {\n",
       "        text-align: right;\n",
       "    }\n",
       "</style>\n",
       "<table border=\"1\" class=\"dataframe\">\n",
       "  <thead>\n",
       "    <tr style=\"text-align: right;\">\n",
       "      <th></th>\n",
       "      <th>publishtime</th>\n",
       "      <th>publisher</th>\n",
       "      <th>category</th>\n",
       "      <th>link</th>\n",
       "      <th>title</th>\n",
       "    </tr>\n",
       "  </thead>\n",
       "  <tbody>\n",
       "    <tr>\n",
       "      <th>0</th>\n",
       "      <td>2023-08-30 06:54:49</td>\n",
       "      <td>Analytics Insight</td>\n",
       "      <td>Business</td>\n",
       "      <td>https://news.google.com/articles/CBMibGh0dHBzO...</td>\n",
       "      <td>Chainlink (LINK) Falters, Hedera (HBAR) Wobble...</td>\n",
       "    </tr>\n",
       "    <tr>\n",
       "      <th>1</th>\n",
       "      <td>2023-08-30 07:15:59</td>\n",
       "      <td>ZAWYA</td>\n",
       "      <td>Business</td>\n",
       "      <td>https://news.google.com/articles/CBMigwFodHRwc...</td>\n",
       "      <td>Funds punished for owning too few Nvidia share...</td>\n",
       "    </tr>\n",
       "    <tr>\n",
       "      <th>2</th>\n",
       "      <td>2023-08-30 07:31:31</td>\n",
       "      <td>ZAWYA</td>\n",
       "      <td>Business</td>\n",
       "      <td>https://news.google.com/articles/CBMibGh0dHBzO...</td>\n",
       "      <td>Crude oil prices stalled as hedge funds sold: ...</td>\n",
       "    </tr>\n",
       "    <tr>\n",
       "      <th>3</th>\n",
       "      <td>2023-08-30 10:38:40</td>\n",
       "      <td>Bloomberg</td>\n",
       "      <td>Business</td>\n",
       "      <td>https://news.google.com/articles/CBMib2h0dHBzO...</td>\n",
       "      <td>Grayscale's Bitcoin Win Is Still Only Half the...</td>\n",
       "    </tr>\n",
       "    <tr>\n",
       "      <th>4</th>\n",
       "      <td>2023-08-30 11:00:00</td>\n",
       "      <td>Better Homes &amp; Gardens</td>\n",
       "      <td>Business</td>\n",
       "      <td>https://news.google.com/articles/CBMiPWh0dHBzO...</td>\n",
       "      <td>I'm a Home Shopping Editor, and These Are the ...</td>\n",
       "    </tr>\n",
       "    <tr>\n",
       "      <th>...</th>\n",
       "      <td>...</td>\n",
       "      <td>...</td>\n",
       "      <td>...</td>\n",
       "      <td>...</td>\n",
       "      <td>...</td>\n",
       "    </tr>\n",
       "    <tr>\n",
       "      <th>51297</th>\n",
       "      <td>2023-09-30 04:01:14</td>\n",
       "      <td>The New York Times</td>\n",
       "      <td>Worldwide</td>\n",
       "      <td>https://news.google.com/articles/CBMiU2h0dHBzO...</td>\n",
       "      <td>Slovakia's Election Could Echo in Ukraine. Her...</td>\n",
       "    </tr>\n",
       "    <tr>\n",
       "      <th>51298</th>\n",
       "      <td>2023-09-30 04:26:44</td>\n",
       "      <td>The Washington Post</td>\n",
       "      <td>Worldwide</td>\n",
       "      <td>https://news.google.com/articles/CBMimQFodHRwc...</td>\n",
       "      <td>Things to know about the Nobel Prizes - The Wa...</td>\n",
       "    </tr>\n",
       "    <tr>\n",
       "      <th>51299</th>\n",
       "      <td>2023-09-30 04:51:51</td>\n",
       "      <td>Hindustan Times</td>\n",
       "      <td>Worldwide</td>\n",
       "      <td>https://news.google.com/articles/CBMikgFodHRwc...</td>\n",
       "      <td>After brief calm, protests against killing of ...</td>\n",
       "    </tr>\n",
       "    <tr>\n",
       "      <th>51300</th>\n",
       "      <td>2023-09-30 04:58:00</td>\n",
       "      <td>CNN</td>\n",
       "      <td>Worldwide</td>\n",
       "      <td>https://news.google.com/articles/CBMiTmh0dHBzO...</td>\n",
       "      <td>‘No one is safe’: France vows action as bedbug...</td>\n",
       "    </tr>\n",
       "    <tr>\n",
       "      <th>51301</th>\n",
       "      <td>2023-09-30 05:00:00</td>\n",
       "      <td>The Guardian</td>\n",
       "      <td>Worldwide</td>\n",
       "      <td>https://news.google.com/articles/CBMieWh0dHBzO...</td>\n",
       "      <td>Slovakia election: polls open in knife-edge vo...</td>\n",
       "    </tr>\n",
       "  </tbody>\n",
       "</table>\n",
       "<p>51302 rows × 5 columns</p>\n",
       "</div>"
      ],
      "text/plain": [
       "               publishtime               publisher   category  \\\n",
       "0      2023-08-30 06:54:49       Analytics Insight   Business   \n",
       "1      2023-08-30 07:15:59                   ZAWYA   Business   \n",
       "2      2023-08-30 07:31:31                   ZAWYA   Business   \n",
       "3      2023-08-30 10:38:40               Bloomberg   Business   \n",
       "4      2023-08-30 11:00:00  Better Homes & Gardens   Business   \n",
       "...                    ...                     ...        ...   \n",
       "51297  2023-09-30 04:01:14      The New York Times  Worldwide   \n",
       "51298  2023-09-30 04:26:44     The Washington Post  Worldwide   \n",
       "51299  2023-09-30 04:51:51         Hindustan Times  Worldwide   \n",
       "51300  2023-09-30 04:58:00                     CNN  Worldwide   \n",
       "51301  2023-09-30 05:00:00            The Guardian  Worldwide   \n",
       "\n",
       "                                                    link  \\\n",
       "0      https://news.google.com/articles/CBMibGh0dHBzO...   \n",
       "1      https://news.google.com/articles/CBMigwFodHRwc...   \n",
       "2      https://news.google.com/articles/CBMibGh0dHBzO...   \n",
       "3      https://news.google.com/articles/CBMib2h0dHBzO...   \n",
       "4      https://news.google.com/articles/CBMiPWh0dHBzO...   \n",
       "...                                                  ...   \n",
       "51297  https://news.google.com/articles/CBMiU2h0dHBzO...   \n",
       "51298  https://news.google.com/articles/CBMimQFodHRwc...   \n",
       "51299  https://news.google.com/articles/CBMikgFodHRwc...   \n",
       "51300  https://news.google.com/articles/CBMiTmh0dHBzO...   \n",
       "51301  https://news.google.com/articles/CBMieWh0dHBzO...   \n",
       "\n",
       "                                                   title  \n",
       "0      Chainlink (LINK) Falters, Hedera (HBAR) Wobble...  \n",
       "1      Funds punished for owning too few Nvidia share...  \n",
       "2      Crude oil prices stalled as hedge funds sold: ...  \n",
       "3      Grayscale's Bitcoin Win Is Still Only Half the...  \n",
       "4      I'm a Home Shopping Editor, and These Are the ...  \n",
       "...                                                  ...  \n",
       "51297  Slovakia's Election Could Echo in Ukraine. Her...  \n",
       "51298  Things to know about the Nobel Prizes - The Wa...  \n",
       "51299  After brief calm, protests against killing of ...  \n",
       "51300  ‘No one is safe’: France vows action as bedbug...  \n",
       "51301  Slovakia election: polls open in knife-edge vo...  \n",
       "\n",
       "[51302 rows x 5 columns]"
      ]
     },
     "execution_count": 9,
     "metadata": {},
     "output_type": "execute_result"
    }
   ],
   "source": [
    "# Reviewing the current condition\n",
    "df"
   ]
  },
  {
   "cell_type": "markdown",
   "id": "cfe3318c",
   "metadata": {
    "papermill": {
     "duration": 0.012906,
     "end_time": "2023-11-03T02:31:04.764324",
     "exception": false,
     "start_time": "2023-11-03T02:31:04.751418",
     "status": "completed"
    },
    "tags": []
   },
   "source": [
    "Cool. I like this format because it is met the SQL standard"
   ]
  },
  {
   "cell_type": "code",
   "execution_count": 10,
   "id": "8e466b27",
   "metadata": {
    "execution": {
     "iopub.execute_input": "2023-11-03T02:31:04.791807Z",
     "iopub.status.busy": "2023-11-03T02:31:04.791423Z",
     "iopub.status.idle": "2023-11-03T02:31:04.887700Z",
     "shell.execute_reply": "2023-11-03T02:31:04.886215Z"
    },
    "papermill": {
     "duration": 0.113976,
     "end_time": "2023-11-03T02:31:04.890710",
     "exception": false,
     "start_time": "2023-11-03T02:31:04.776734",
     "status": "completed"
    },
    "tags": []
   },
   "outputs": [
    {
     "data": {
      "text/plain": [
       "4206"
      ]
     },
     "execution_count": 10,
     "metadata": {},
     "output_type": "execute_result"
    }
   ],
   "source": [
    "# Take a look about the posibility of duplicates record\n",
    "duplicate_count = df.duplicated()\n",
    "\n",
    "duplicate_count.sum()"
   ]
  },
  {
   "cell_type": "code",
   "execution_count": 11,
   "id": "3dc20fee",
   "metadata": {
    "execution": {
     "iopub.execute_input": "2023-11-03T02:31:04.918058Z",
     "iopub.status.busy": "2023-11-03T02:31:04.917511Z",
     "iopub.status.idle": "2023-11-03T02:31:05.038631Z",
     "shell.execute_reply": "2023-11-03T02:31:05.037398Z"
    },
    "papermill": {
     "duration": 0.139043,
     "end_time": "2023-11-03T02:31:05.042043",
     "exception": false,
     "start_time": "2023-11-03T02:31:04.903000",
     "status": "completed"
    },
    "tags": []
   },
   "outputs": [],
   "source": [
    "# Remove the duplicate from the DataFrame\n",
    "# Remove duplicate rows\n",
    "df = df.drop_duplicates()\n",
    "\n",
    "# Reset the index after removing duplicates\n",
    "df = df.reset_index(drop=True)"
   ]
  },
  {
   "cell_type": "code",
   "execution_count": 12,
   "id": "1964e64d",
   "metadata": {
    "execution": {
     "iopub.execute_input": "2023-11-03T02:31:05.070941Z",
     "iopub.status.busy": "2023-11-03T02:31:05.070458Z",
     "iopub.status.idle": "2023-11-03T02:31:05.088247Z",
     "shell.execute_reply": "2023-11-03T02:31:05.087337Z"
    },
    "papermill": {
     "duration": 0.035323,
     "end_time": "2023-11-03T02:31:05.090667",
     "exception": false,
     "start_time": "2023-11-03T02:31:05.055344",
     "status": "completed"
    },
    "tags": []
   },
   "outputs": [
    {
     "data": {
      "text/html": [
       "<div>\n",
       "<style scoped>\n",
       "    .dataframe tbody tr th:only-of-type {\n",
       "        vertical-align: middle;\n",
       "    }\n",
       "\n",
       "    .dataframe tbody tr th {\n",
       "        vertical-align: top;\n",
       "    }\n",
       "\n",
       "    .dataframe thead th {\n",
       "        text-align: right;\n",
       "    }\n",
       "</style>\n",
       "<table border=\"1\" class=\"dataframe\">\n",
       "  <thead>\n",
       "    <tr style=\"text-align: right;\">\n",
       "      <th></th>\n",
       "      <th>publishtime</th>\n",
       "      <th>publisher</th>\n",
       "      <th>category</th>\n",
       "      <th>link</th>\n",
       "      <th>title</th>\n",
       "    </tr>\n",
       "  </thead>\n",
       "  <tbody>\n",
       "    <tr>\n",
       "      <th>0</th>\n",
       "      <td>2023-08-30 06:54:49</td>\n",
       "      <td>Analytics Insight</td>\n",
       "      <td>Business</td>\n",
       "      <td>https://news.google.com/articles/CBMibGh0dHBzO...</td>\n",
       "      <td>Chainlink (LINK) Falters, Hedera (HBAR) Wobble...</td>\n",
       "    </tr>\n",
       "    <tr>\n",
       "      <th>1</th>\n",
       "      <td>2023-08-30 07:15:59</td>\n",
       "      <td>ZAWYA</td>\n",
       "      <td>Business</td>\n",
       "      <td>https://news.google.com/articles/CBMigwFodHRwc...</td>\n",
       "      <td>Funds punished for owning too few Nvidia share...</td>\n",
       "    </tr>\n",
       "    <tr>\n",
       "      <th>2</th>\n",
       "      <td>2023-08-30 07:31:31</td>\n",
       "      <td>ZAWYA</td>\n",
       "      <td>Business</td>\n",
       "      <td>https://news.google.com/articles/CBMibGh0dHBzO...</td>\n",
       "      <td>Crude oil prices stalled as hedge funds sold: ...</td>\n",
       "    </tr>\n",
       "    <tr>\n",
       "      <th>3</th>\n",
       "      <td>2023-08-30 10:38:40</td>\n",
       "      <td>Bloomberg</td>\n",
       "      <td>Business</td>\n",
       "      <td>https://news.google.com/articles/CBMib2h0dHBzO...</td>\n",
       "      <td>Grayscale's Bitcoin Win Is Still Only Half the...</td>\n",
       "    </tr>\n",
       "    <tr>\n",
       "      <th>4</th>\n",
       "      <td>2023-08-30 11:00:00</td>\n",
       "      <td>Better Homes &amp; Gardens</td>\n",
       "      <td>Business</td>\n",
       "      <td>https://news.google.com/articles/CBMiPWh0dHBzO...</td>\n",
       "      <td>I'm a Home Shopping Editor, and These Are the ...</td>\n",
       "    </tr>\n",
       "    <tr>\n",
       "      <th>...</th>\n",
       "      <td>...</td>\n",
       "      <td>...</td>\n",
       "      <td>...</td>\n",
       "      <td>...</td>\n",
       "      <td>...</td>\n",
       "    </tr>\n",
       "    <tr>\n",
       "      <th>47091</th>\n",
       "      <td>2023-09-30 04:01:14</td>\n",
       "      <td>The New York Times</td>\n",
       "      <td>Worldwide</td>\n",
       "      <td>https://news.google.com/articles/CBMiU2h0dHBzO...</td>\n",
       "      <td>Slovakia's Election Could Echo in Ukraine. Her...</td>\n",
       "    </tr>\n",
       "    <tr>\n",
       "      <th>47092</th>\n",
       "      <td>2023-09-30 04:26:44</td>\n",
       "      <td>The Washington Post</td>\n",
       "      <td>Worldwide</td>\n",
       "      <td>https://news.google.com/articles/CBMimQFodHRwc...</td>\n",
       "      <td>Things to know about the Nobel Prizes - The Wa...</td>\n",
       "    </tr>\n",
       "    <tr>\n",
       "      <th>47093</th>\n",
       "      <td>2023-09-30 04:51:51</td>\n",
       "      <td>Hindustan Times</td>\n",
       "      <td>Worldwide</td>\n",
       "      <td>https://news.google.com/articles/CBMikgFodHRwc...</td>\n",
       "      <td>After brief calm, protests against killing of ...</td>\n",
       "    </tr>\n",
       "    <tr>\n",
       "      <th>47094</th>\n",
       "      <td>2023-09-30 04:58:00</td>\n",
       "      <td>CNN</td>\n",
       "      <td>Worldwide</td>\n",
       "      <td>https://news.google.com/articles/CBMiTmh0dHBzO...</td>\n",
       "      <td>‘No one is safe’: France vows action as bedbug...</td>\n",
       "    </tr>\n",
       "    <tr>\n",
       "      <th>47095</th>\n",
       "      <td>2023-09-30 05:00:00</td>\n",
       "      <td>The Guardian</td>\n",
       "      <td>Worldwide</td>\n",
       "      <td>https://news.google.com/articles/CBMieWh0dHBzO...</td>\n",
       "      <td>Slovakia election: polls open in knife-edge vo...</td>\n",
       "    </tr>\n",
       "  </tbody>\n",
       "</table>\n",
       "<p>47096 rows × 5 columns</p>\n",
       "</div>"
      ],
      "text/plain": [
       "               publishtime               publisher   category  \\\n",
       "0      2023-08-30 06:54:49       Analytics Insight   Business   \n",
       "1      2023-08-30 07:15:59                   ZAWYA   Business   \n",
       "2      2023-08-30 07:31:31                   ZAWYA   Business   \n",
       "3      2023-08-30 10:38:40               Bloomberg   Business   \n",
       "4      2023-08-30 11:00:00  Better Homes & Gardens   Business   \n",
       "...                    ...                     ...        ...   \n",
       "47091  2023-09-30 04:01:14      The New York Times  Worldwide   \n",
       "47092  2023-09-30 04:26:44     The Washington Post  Worldwide   \n",
       "47093  2023-09-30 04:51:51         Hindustan Times  Worldwide   \n",
       "47094  2023-09-30 04:58:00                     CNN  Worldwide   \n",
       "47095  2023-09-30 05:00:00            The Guardian  Worldwide   \n",
       "\n",
       "                                                    link  \\\n",
       "0      https://news.google.com/articles/CBMibGh0dHBzO...   \n",
       "1      https://news.google.com/articles/CBMigwFodHRwc...   \n",
       "2      https://news.google.com/articles/CBMibGh0dHBzO...   \n",
       "3      https://news.google.com/articles/CBMib2h0dHBzO...   \n",
       "4      https://news.google.com/articles/CBMiPWh0dHBzO...   \n",
       "...                                                  ...   \n",
       "47091  https://news.google.com/articles/CBMiU2h0dHBzO...   \n",
       "47092  https://news.google.com/articles/CBMimQFodHRwc...   \n",
       "47093  https://news.google.com/articles/CBMikgFodHRwc...   \n",
       "47094  https://news.google.com/articles/CBMiTmh0dHBzO...   \n",
       "47095  https://news.google.com/articles/CBMieWh0dHBzO...   \n",
       "\n",
       "                                                   title  \n",
       "0      Chainlink (LINK) Falters, Hedera (HBAR) Wobble...  \n",
       "1      Funds punished for owning too few Nvidia share...  \n",
       "2      Crude oil prices stalled as hedge funds sold: ...  \n",
       "3      Grayscale's Bitcoin Win Is Still Only Half the...  \n",
       "4      I'm a Home Shopping Editor, and These Are the ...  \n",
       "...                                                  ...  \n",
       "47091  Slovakia's Election Could Echo in Ukraine. Her...  \n",
       "47092  Things to know about the Nobel Prizes - The Wa...  \n",
       "47093  After brief calm, protests against killing of ...  \n",
       "47094  ‘No one is safe’: France vows action as bedbug...  \n",
       "47095  Slovakia election: polls open in knife-edge vo...  \n",
       "\n",
       "[47096 rows x 5 columns]"
      ]
     },
     "execution_count": 12,
     "metadata": {},
     "output_type": "execute_result"
    }
   ],
   "source": [
    "# Reviewing our DataFrame again\n",
    "df"
   ]
  },
  {
   "cell_type": "markdown",
   "id": "a90c736c",
   "metadata": {
    "papermill": {
     "duration": 0.012629,
     "end_time": "2023-11-03T02:31:05.116213",
     "exception": false,
     "start_time": "2023-11-03T02:31:05.103584",
     "status": "completed"
    },
    "tags": []
   },
   "source": [
    "Looks like the record of new DataFrame is matched with the manual calculation.\n",
    "51302 rows - 4206 rows = 47096 rows"
   ]
  },
  {
   "cell_type": "markdown",
   "id": "f8e19956",
   "metadata": {
    "papermill": {
     "duration": 0.012661,
     "end_time": "2023-11-03T02:31:05.142181",
     "exception": false,
     "start_time": "2023-11-03T02:31:05.129520",
     "status": "completed"
    },
    "tags": []
   },
   "source": [
    "Lets short the data by 'publishdate' column"
   ]
  },
  {
   "cell_type": "code",
   "execution_count": 13,
   "id": "bc742dcb",
   "metadata": {
    "execution": {
     "iopub.execute_input": "2023-11-03T02:31:05.171053Z",
     "iopub.status.busy": "2023-11-03T02:31:05.169656Z",
     "iopub.status.idle": "2023-11-03T02:31:05.274196Z",
     "shell.execute_reply": "2023-11-03T02:31:05.272762Z"
    },
    "papermill": {
     "duration": 0.121997,
     "end_time": "2023-11-03T02:31:05.277131",
     "exception": false,
     "start_time": "2023-11-03T02:31:05.155134",
     "status": "completed"
    },
    "tags": []
   },
   "outputs": [
    {
     "data": {
      "text/html": [
       "<div>\n",
       "<style scoped>\n",
       "    .dataframe tbody tr th:only-of-type {\n",
       "        vertical-align: middle;\n",
       "    }\n",
       "\n",
       "    .dataframe tbody tr th {\n",
       "        vertical-align: top;\n",
       "    }\n",
       "\n",
       "    .dataframe thead th {\n",
       "        text-align: right;\n",
       "    }\n",
       "</style>\n",
       "<table border=\"1\" class=\"dataframe\">\n",
       "  <thead>\n",
       "    <tr style=\"text-align: right;\">\n",
       "      <th></th>\n",
       "      <th>publishtime</th>\n",
       "      <th>publisher</th>\n",
       "      <th>category</th>\n",
       "      <th>link</th>\n",
       "      <th>title</th>\n",
       "    </tr>\n",
       "  </thead>\n",
       "  <tbody>\n",
       "    <tr>\n",
       "      <th>34839</th>\n",
       "      <td>2023-09-30 05:26:42</td>\n",
       "      <td>MLB.com</td>\n",
       "      <td>Sports</td>\n",
       "      <td>https://news.google.com/articles/CBMiQmh0dHBzO...</td>\n",
       "      <td>Postseason eludes Padres despite late-season run</td>\n",
       "    </tr>\n",
       "    <tr>\n",
       "      <th>19838</th>\n",
       "      <td>2023-09-30 05:15:02</td>\n",
       "      <td>WION</td>\n",
       "      <td>Headlines</td>\n",
       "      <td>https://news.google.com/articles/CCAiC082a0UzZ...</td>\n",
       "      <td>US: House Republicans reject own bill to exten...</td>\n",
       "    </tr>\n",
       "    <tr>\n",
       "      <th>27319</th>\n",
       "      <td>2023-09-30 05:11:35</td>\n",
       "      <td>WION</td>\n",
       "      <td>Science</td>\n",
       "      <td>https://news.google.com/articles/CBMiZ2h0dHBzO...</td>\n",
       "      <td>Astronomers capture first direct evidence of B...</td>\n",
       "    </tr>\n",
       "    <tr>\n",
       "      <th>19837</th>\n",
       "      <td>2023-09-30 05:09:00</td>\n",
       "      <td>The Washington Post</td>\n",
       "      <td>Headlines</td>\n",
       "      <td>https://news.google.com/articles/CBMiYGh0dHBzO...</td>\n",
       "      <td>Prosecutors cite Trump's supposed gun purchase...</td>\n",
       "    </tr>\n",
       "    <tr>\n",
       "      <th>19836</th>\n",
       "      <td>2023-09-30 05:01:46</td>\n",
       "      <td>The Washington Post</td>\n",
       "      <td>Headlines</td>\n",
       "      <td>https://news.google.com/articles/CBMiT2h0dHBzO...</td>\n",
       "      <td>House fails to pass short-term funding bill as...</td>\n",
       "    </tr>\n",
       "    <tr>\n",
       "      <th>47095</th>\n",
       "      <td>2023-09-30 05:00:00</td>\n",
       "      <td>The Guardian</td>\n",
       "      <td>Worldwide</td>\n",
       "      <td>https://news.google.com/articles/CBMieWh0dHBzO...</td>\n",
       "      <td>Slovakia election: polls open in knife-edge vo...</td>\n",
       "    </tr>\n",
       "    <tr>\n",
       "      <th>47094</th>\n",
       "      <td>2023-09-30 04:58:00</td>\n",
       "      <td>CNN</td>\n",
       "      <td>Worldwide</td>\n",
       "      <td>https://news.google.com/articles/CBMiTmh0dHBzO...</td>\n",
       "      <td>‘No one is safe’: France vows action as bedbug...</td>\n",
       "    </tr>\n",
       "    <tr>\n",
       "      <th>34838</th>\n",
       "      <td>2023-09-30 04:53:07</td>\n",
       "      <td>CBS Sports</td>\n",
       "      <td>Sports</td>\n",
       "      <td>https://news.google.com/articles/CBMilgFodHRwc...</td>\n",
       "      <td>Utah vs. Oregon State score: No. 10 Utes lifel...</td>\n",
       "    </tr>\n",
       "    <tr>\n",
       "      <th>34837</th>\n",
       "      <td>2023-09-30 04:52:30</td>\n",
       "      <td>Golf Monthly</td>\n",
       "      <td>Sports</td>\n",
       "      <td>https://news.google.com/articles/CBMikAFodHRwc...</td>\n",
       "      <td>Ryder Cup Day 2 Latest Scores - McIlroy And Fl...</td>\n",
       "    </tr>\n",
       "    <tr>\n",
       "      <th>47093</th>\n",
       "      <td>2023-09-30 04:51:51</td>\n",
       "      <td>Hindustan Times</td>\n",
       "      <td>Worldwide</td>\n",
       "      <td>https://news.google.com/articles/CBMikgFodHRwc...</td>\n",
       "      <td>After brief calm, protests against killing of ...</td>\n",
       "    </tr>\n",
       "  </tbody>\n",
       "</table>\n",
       "</div>"
      ],
      "text/plain": [
       "               publishtime            publisher   category  \\\n",
       "34839  2023-09-30 05:26:42              MLB.com     Sports   \n",
       "19838  2023-09-30 05:15:02                 WION  Headlines   \n",
       "27319  2023-09-30 05:11:35                 WION    Science   \n",
       "19837  2023-09-30 05:09:00  The Washington Post  Headlines   \n",
       "19836  2023-09-30 05:01:46  The Washington Post  Headlines   \n",
       "47095  2023-09-30 05:00:00         The Guardian  Worldwide   \n",
       "47094  2023-09-30 04:58:00                  CNN  Worldwide   \n",
       "34838  2023-09-30 04:53:07           CBS Sports     Sports   \n",
       "34837  2023-09-30 04:52:30         Golf Monthly     Sports   \n",
       "47093  2023-09-30 04:51:51      Hindustan Times  Worldwide   \n",
       "\n",
       "                                                    link  \\\n",
       "34839  https://news.google.com/articles/CBMiQmh0dHBzO...   \n",
       "19838  https://news.google.com/articles/CCAiC082a0UzZ...   \n",
       "27319  https://news.google.com/articles/CBMiZ2h0dHBzO...   \n",
       "19837  https://news.google.com/articles/CBMiYGh0dHBzO...   \n",
       "19836  https://news.google.com/articles/CBMiT2h0dHBzO...   \n",
       "47095  https://news.google.com/articles/CBMieWh0dHBzO...   \n",
       "47094  https://news.google.com/articles/CBMiTmh0dHBzO...   \n",
       "34838  https://news.google.com/articles/CBMilgFodHRwc...   \n",
       "34837  https://news.google.com/articles/CBMikAFodHRwc...   \n",
       "47093  https://news.google.com/articles/CBMikgFodHRwc...   \n",
       "\n",
       "                                                   title  \n",
       "34839   Postseason eludes Padres despite late-season run  \n",
       "19838  US: House Republicans reject own bill to exten...  \n",
       "27319  Astronomers capture first direct evidence of B...  \n",
       "19837  Prosecutors cite Trump's supposed gun purchase...  \n",
       "19836  House fails to pass short-term funding bill as...  \n",
       "47095  Slovakia election: polls open in knife-edge vo...  \n",
       "47094  ‘No one is safe’: France vows action as bedbug...  \n",
       "34838  Utah vs. Oregon State score: No. 10 Utes lifel...  \n",
       "34837  Ryder Cup Day 2 Latest Scores - McIlroy And Fl...  \n",
       "47093  After brief calm, protests against killing of ...  "
      ]
     },
     "execution_count": 13,
     "metadata": {},
     "output_type": "execute_result"
    }
   ],
   "source": [
    "# Sort the DataFrame by 'publishtime' in descending order (from the newest to the oldest)\n",
    "df = df.sort_values(by='publishtime', ascending=False)\n",
    "\n",
    "# Select the top 10 newest records\n",
    "newest_records = df.head(10)\n",
    "\n",
    "# Reviewing newest records\n",
    "newest_records"
   ]
  },
  {
   "cell_type": "code",
   "execution_count": 14,
   "id": "2de8fe33",
   "metadata": {
    "execution": {
     "iopub.execute_input": "2023-11-03T02:31:05.306139Z",
     "iopub.status.busy": "2023-11-03T02:31:05.305644Z",
     "iopub.status.idle": "2023-11-03T02:31:05.321252Z",
     "shell.execute_reply": "2023-11-03T02:31:05.319986Z"
    },
    "papermill": {
     "duration": 0.033631,
     "end_time": "2023-11-03T02:31:05.323958",
     "exception": false,
     "start_time": "2023-11-03T02:31:05.290327",
     "status": "completed"
    },
    "tags": []
   },
   "outputs": [
    {
     "data": {
      "text/html": [
       "<div>\n",
       "<style scoped>\n",
       "    .dataframe tbody tr th:only-of-type {\n",
       "        vertical-align: middle;\n",
       "    }\n",
       "\n",
       "    .dataframe tbody tr th {\n",
       "        vertical-align: top;\n",
       "    }\n",
       "\n",
       "    .dataframe thead th {\n",
       "        text-align: right;\n",
       "    }\n",
       "</style>\n",
       "<table border=\"1\" class=\"dataframe\">\n",
       "  <thead>\n",
       "    <tr style=\"text-align: right;\">\n",
       "      <th></th>\n",
       "      <th>publishtime</th>\n",
       "      <th>publisher</th>\n",
       "      <th>category</th>\n",
       "      <th>link</th>\n",
       "      <th>title</th>\n",
       "    </tr>\n",
       "  </thead>\n",
       "  <tbody>\n",
       "    <tr>\n",
       "      <th>23893</th>\n",
       "      <td>2023-08-29 10:05:40</td>\n",
       "      <td>WRAL TechWire</td>\n",
       "      <td>Science</td>\n",
       "      <td>https://news.google.com/articles/CBMifWh0dHBzO...</td>\n",
       "      <td>Duke engineers unlock quantum secrets in molec...</td>\n",
       "    </tr>\n",
       "    <tr>\n",
       "      <th>23892</th>\n",
       "      <td>2023-08-29 09:30:01</td>\n",
       "      <td>Phys.org</td>\n",
       "      <td>Science</td>\n",
       "      <td>https://news.google.com/articles/CBMiVmh0dHBzO...</td>\n",
       "      <td>Quantum-enhanced detection for chip-scale wire...</td>\n",
       "    </tr>\n",
       "    <tr>\n",
       "      <th>23891</th>\n",
       "      <td>2023-08-29 09:20:37</td>\n",
       "      <td>New Scientist</td>\n",
       "      <td>Science</td>\n",
       "      <td>https://news.google.com/articles/CBMia2h0dHBzO...</td>\n",
       "      <td>Ancient humans may have worn shoes more than 1...</td>\n",
       "    </tr>\n",
       "    <tr>\n",
       "      <th>23890</th>\n",
       "      <td>2023-08-29 01:00:09</td>\n",
       "      <td>Upworthy</td>\n",
       "      <td>Science</td>\n",
       "      <td>https://news.google.com/articles/CBMiW2h0dHBzO...</td>\n",
       "      <td>How 'light pollution' has turned looking at a ...</td>\n",
       "    </tr>\n",
       "    <tr>\n",
       "      <th>23889</th>\n",
       "      <td>2023-08-28 17:23:35</td>\n",
       "      <td>Kennedy Space Center</td>\n",
       "      <td>Science</td>\n",
       "      <td>https://news.google.com/articles/CBMifGh0dHBzO...</td>\n",
       "      <td>SpaceX Falcon Heavy Pysche</td>\n",
       "    </tr>\n",
       "    <tr>\n",
       "      <th>23888</th>\n",
       "      <td>2023-08-25 16:21:27</td>\n",
       "      <td>Kennedy Space Center</td>\n",
       "      <td>Science</td>\n",
       "      <td>https://news.google.com/articles/CBMia2h0dHBzO...</td>\n",
       "      <td>OSIRIS-REx Homecoming</td>\n",
       "    </tr>\n",
       "    <tr>\n",
       "      <th>34840</th>\n",
       "      <td>2023-08-25 13:01:33</td>\n",
       "      <td>IEEE Spectrum</td>\n",
       "      <td>Technology</td>\n",
       "      <td>https://news.google.com/articles/CBMiJmh0dHBzO...</td>\n",
       "      <td>Meta’s Flamera Has a New Vision for Augmented ...</td>\n",
       "    </tr>\n",
       "    <tr>\n",
       "      <th>41073</th>\n",
       "      <td>2022-11-10 07:10:30</td>\n",
       "      <td>Sky News</td>\n",
       "      <td>Worldwide</td>\n",
       "      <td>https://news.google.com/articles/CBMiVWh0dHBzO...</td>\n",
       "      <td>Ukraine war latest: Poland summons ambassador ...</td>\n",
       "    </tr>\n",
       "    <tr>\n",
       "      <th>6337</th>\n",
       "      <td>2019-11-10 05:15:43</td>\n",
       "      <td>KarmaWeather</td>\n",
       "      <td>Entertainment</td>\n",
       "      <td>https://news.google.com/articles/CBMiLGh0dHBzO...</td>\n",
       "      <td>Today's Daily Chinese Horoscope</td>\n",
       "    </tr>\n",
       "    <tr>\n",
       "      <th>41072</th>\n",
       "      <td>2019-03-10 20:53:31</td>\n",
       "      <td>The New York Times</td>\n",
       "      <td>Worldwide</td>\n",
       "      <td>https://news.google.com/articles/CBMiIWh0dHBzO...</td>\n",
       "      <td>A Tragic Fire and Broken Promises in South Africa</td>\n",
       "    </tr>\n",
       "  </tbody>\n",
       "</table>\n",
       "</div>"
      ],
      "text/plain": [
       "               publishtime             publisher       category  \\\n",
       "23893  2023-08-29 10:05:40         WRAL TechWire        Science   \n",
       "23892  2023-08-29 09:30:01              Phys.org        Science   \n",
       "23891  2023-08-29 09:20:37         New Scientist        Science   \n",
       "23890  2023-08-29 01:00:09              Upworthy        Science   \n",
       "23889  2023-08-28 17:23:35  Kennedy Space Center        Science   \n",
       "23888  2023-08-25 16:21:27  Kennedy Space Center        Science   \n",
       "34840  2023-08-25 13:01:33         IEEE Spectrum     Technology   \n",
       "41073  2022-11-10 07:10:30              Sky News      Worldwide   \n",
       "6337   2019-11-10 05:15:43          KarmaWeather  Entertainment   \n",
       "41072  2019-03-10 20:53:31    The New York Times      Worldwide   \n",
       "\n",
       "                                                    link  \\\n",
       "23893  https://news.google.com/articles/CBMifWh0dHBzO...   \n",
       "23892  https://news.google.com/articles/CBMiVmh0dHBzO...   \n",
       "23891  https://news.google.com/articles/CBMia2h0dHBzO...   \n",
       "23890  https://news.google.com/articles/CBMiW2h0dHBzO...   \n",
       "23889  https://news.google.com/articles/CBMifGh0dHBzO...   \n",
       "23888  https://news.google.com/articles/CBMia2h0dHBzO...   \n",
       "34840  https://news.google.com/articles/CBMiJmh0dHBzO...   \n",
       "41073  https://news.google.com/articles/CBMiVWh0dHBzO...   \n",
       "6337   https://news.google.com/articles/CBMiLGh0dHBzO...   \n",
       "41072  https://news.google.com/articles/CBMiIWh0dHBzO...   \n",
       "\n",
       "                                                   title  \n",
       "23893  Duke engineers unlock quantum secrets in molec...  \n",
       "23892  Quantum-enhanced detection for chip-scale wire...  \n",
       "23891  Ancient humans may have worn shoes more than 1...  \n",
       "23890  How 'light pollution' has turned looking at a ...  \n",
       "23889                         SpaceX Falcon Heavy Pysche  \n",
       "23888                              OSIRIS-REx Homecoming  \n",
       "34840  Meta’s Flamera Has a New Vision for Augmented ...  \n",
       "41073  Ukraine war latest: Poland summons ambassador ...  \n",
       "6337                     Today's Daily Chinese Horoscope  \n",
       "41072  A Tragic Fire and Broken Promises in South Africa  "
      ]
     },
     "execution_count": 14,
     "metadata": {},
     "output_type": "execute_result"
    }
   ],
   "source": [
    "# Select the bottom 10 oldest records\n",
    "oldest_records = df.tail(10)\n",
    "\n",
    "# Reviewing oldest records\n",
    "oldest_records"
   ]
  },
  {
   "cell_type": "markdown",
   "id": "9dc77fdf",
   "metadata": {
    "papermill": {
     "duration": 0.013437,
     "end_time": "2023-11-03T02:31:05.351054",
     "exception": false,
     "start_time": "2023-11-03T02:31:05.337617",
     "status": "completed"
    },
    "tags": []
   },
   "source": [
    "Looks like the records is containt news from 2023-08-25 13:01:33 to 2023-09-30 05:26:42. The 3 records outside the range is strange (Index number: 41073, 6337, 41072). I assume it is because the publisher re-used their old pages to write the new news. Because we cant edit those three into the correct publishdate we need to drop them from our DataFrame."
   ]
  },
  {
   "cell_type": "markdown",
   "id": "eb2bf27b",
   "metadata": {
    "papermill": {
     "duration": 0.105828,
     "end_time": "2023-11-03T02:31:05.470487",
     "exception": false,
     "start_time": "2023-11-03T02:31:05.364659",
     "status": "completed"
    },
    "tags": []
   },
   "source": [
    "To make our DataFrame even more balanced, let's define a one-month period. \n",
    "While over 90% of the records are from September news, the latest record from September is on '2023-09-30 05:26:42'. \n",
    "\n",
    "Let's pretend we're working for a popular news agency, and the stakeholders want a report on news data, including news from all competitors, for the last 30 days. However, they want the report on the last day of the month. To meet this requirement, we will exclude the data from 2023-09-30. To ensure fairness and consistency in future reporting, we'll also include records from the last day of the previous month, which is 2023-08-31. This way, in the next month, our reporting will be consistent and equitable.\n",
    "\n",
    "With that in mind, our chosen time frame is from '2023-08-31 00:00:00' to '2023-09-29 23:59:59'.\n",
    "\n",
    "Let's remove all records outside of this time frame!"
   ]
  },
  {
   "cell_type": "code",
   "execution_count": 15,
   "id": "d1c0478e",
   "metadata": {
    "execution": {
     "iopub.execute_input": "2023-11-03T02:31:05.500614Z",
     "iopub.status.busy": "2023-11-03T02:31:05.500188Z",
     "iopub.status.idle": "2023-11-03T02:31:05.558401Z",
     "shell.execute_reply": "2023-11-03T02:31:05.557145Z"
    },
    "papermill": {
     "duration": 0.077184,
     "end_time": "2023-11-03T02:31:05.561639",
     "exception": false,
     "start_time": "2023-11-03T02:31:05.484455",
     "status": "completed"
    },
    "tags": []
   },
   "outputs": [
    {
     "data": {
      "text/html": [
       "<div>\n",
       "<style scoped>\n",
       "    .dataframe tbody tr th:only-of-type {\n",
       "        vertical-align: middle;\n",
       "    }\n",
       "\n",
       "    .dataframe tbody tr th {\n",
       "        vertical-align: top;\n",
       "    }\n",
       "\n",
       "    .dataframe thead th {\n",
       "        text-align: right;\n",
       "    }\n",
       "</style>\n",
       "<table border=\"1\" class=\"dataframe\">\n",
       "  <thead>\n",
       "    <tr style=\"text-align: right;\">\n",
       "      <th></th>\n",
       "      <th>publishtime</th>\n",
       "      <th>publisher</th>\n",
       "      <th>category</th>\n",
       "      <th>link</th>\n",
       "      <th>title</th>\n",
       "    </tr>\n",
       "  </thead>\n",
       "  <tbody>\n",
       "    <tr>\n",
       "      <th>19793</th>\n",
       "      <td>2023-09-29 23:58:11</td>\n",
       "      <td>CBS Evening News</td>\n",
       "      <td>Headlines</td>\n",
       "      <td>https://news.google.com/articles/CCAiC0FBeUQ0V...</td>\n",
       "      <td>Record-breaking rainfall causes flooding in Ne...</td>\n",
       "    </tr>\n",
       "    <tr>\n",
       "      <th>41064</th>\n",
       "      <td>2023-09-29 23:53:42</td>\n",
       "      <td>GLYFE Nation</td>\n",
       "      <td>Technology</td>\n",
       "      <td>https://news.google.com/articles/CCAiC3o4ZENmO...</td>\n",
       "      <td>Disney Speedstorm Season 4: Unveiling A Whole ...</td>\n",
       "    </tr>\n",
       "    <tr>\n",
       "      <th>47072</th>\n",
       "      <td>2023-09-29 23:53:00</td>\n",
       "      <td>The Guardian</td>\n",
       "      <td>Worldwide</td>\n",
       "      <td>https://news.google.com/articles/CBMiUWh0dHBzO...</td>\n",
       "      <td>White House warns of ‘unprecedented’ Serbian t...</td>\n",
       "    </tr>\n",
       "    <tr>\n",
       "      <th>19792</th>\n",
       "      <td>2023-09-29 23:53:00</td>\n",
       "      <td>The Guardian</td>\n",
       "      <td>Headlines</td>\n",
       "      <td>https://news.google.com/articles/CBMiUWh0dHBzO...</td>\n",
       "      <td>White House warns of ‘unprecedented’ Serbian t...</td>\n",
       "    </tr>\n",
       "    <tr>\n",
       "      <th>6313</th>\n",
       "      <td>2023-09-29 23:52:34</td>\n",
       "      <td>CNBC Television</td>\n",
       "      <td>Business</td>\n",
       "      <td>https://news.google.com/articles/CCAiCzdWazQ2e...</td>\n",
       "      <td>Don't trade stocks on what you're expecting fr...</td>\n",
       "    </tr>\n",
       "    <tr>\n",
       "      <th>...</th>\n",
       "      <td>...</td>\n",
       "      <td>...</td>\n",
       "      <td>...</td>\n",
       "      <td>...</td>\n",
       "      <td>...</td>\n",
       "    </tr>\n",
       "    <tr>\n",
       "      <th>6360</th>\n",
       "      <td>2023-08-31 00:08:00</td>\n",
       "      <td>Yahoo Entertainment</td>\n",
       "      <td>Entertainment</td>\n",
       "      <td>https://news.google.com/articles/CBMiVGh0dHBzO...</td>\n",
       "      <td>Dukes of Hazzard star John Schneider reveals '...</td>\n",
       "    </tr>\n",
       "    <tr>\n",
       "      <th>19916</th>\n",
       "      <td>2023-08-31 00:05:59</td>\n",
       "      <td>Medical News Today</td>\n",
       "      <td>Health</td>\n",
       "      <td>https://news.google.com/articles/CBMia2h0dHBzO...</td>\n",
       "      <td>Atrial fibrillation: Stress, insomnia linked t...</td>\n",
       "    </tr>\n",
       "    <tr>\n",
       "      <th>13000</th>\n",
       "      <td>2023-08-31 00:04:00</td>\n",
       "      <td>New York Post</td>\n",
       "      <td>Headlines</td>\n",
       "      <td>https://news.google.com/articles/CBMiYWh0dHBzO...</td>\n",
       "      <td>DOJ contacted Hunter Biden, whistleblower team...</td>\n",
       "    </tr>\n",
       "    <tr>\n",
       "      <th>18</th>\n",
       "      <td>2023-08-31 00:00:35</td>\n",
       "      <td>Financial Times</td>\n",
       "      <td>Business</td>\n",
       "      <td>https://news.google.com/articles/CBMiP2h0dHBzO...</td>\n",
       "      <td>Will a rare strike threaten the 'buy Japan' mo...</td>\n",
       "    </tr>\n",
       "    <tr>\n",
       "      <th>34872</th>\n",
       "      <td>2023-08-31 00:00:00</td>\n",
       "      <td>Pure Xbox</td>\n",
       "      <td>Technology</td>\n",
       "      <td>https://news.google.com/articles/CBMiYmh0dHBzO...</td>\n",
       "      <td>Starfield Director Todd Howard Praises Xbox In...</td>\n",
       "    </tr>\n",
       "  </tbody>\n",
       "</table>\n",
       "<p>46606 rows × 5 columns</p>\n",
       "</div>"
      ],
      "text/plain": [
       "              publishtime            publisher       category  \\\n",
       "19793 2023-09-29 23:58:11     CBS Evening News      Headlines   \n",
       "41064 2023-09-29 23:53:42         GLYFE Nation     Technology   \n",
       "47072 2023-09-29 23:53:00         The Guardian      Worldwide   \n",
       "19792 2023-09-29 23:53:00         The Guardian      Headlines   \n",
       "6313  2023-09-29 23:52:34      CNBC Television       Business   \n",
       "...                   ...                  ...            ...   \n",
       "6360  2023-08-31 00:08:00  Yahoo Entertainment  Entertainment   \n",
       "19916 2023-08-31 00:05:59   Medical News Today         Health   \n",
       "13000 2023-08-31 00:04:00       New York Post       Headlines   \n",
       "18    2023-08-31 00:00:35      Financial Times       Business   \n",
       "34872 2023-08-31 00:00:00            Pure Xbox     Technology   \n",
       "\n",
       "                                                    link  \\\n",
       "19793  https://news.google.com/articles/CCAiC0FBeUQ0V...   \n",
       "41064  https://news.google.com/articles/CCAiC3o4ZENmO...   \n",
       "47072  https://news.google.com/articles/CBMiUWh0dHBzO...   \n",
       "19792  https://news.google.com/articles/CBMiUWh0dHBzO...   \n",
       "6313   https://news.google.com/articles/CCAiCzdWazQ2e...   \n",
       "...                                                  ...   \n",
       "6360   https://news.google.com/articles/CBMiVGh0dHBzO...   \n",
       "19916  https://news.google.com/articles/CBMia2h0dHBzO...   \n",
       "13000  https://news.google.com/articles/CBMiYWh0dHBzO...   \n",
       "18     https://news.google.com/articles/CBMiP2h0dHBzO...   \n",
       "34872  https://news.google.com/articles/CBMiYmh0dHBzO...   \n",
       "\n",
       "                                                   title  \n",
       "19793  Record-breaking rainfall causes flooding in Ne...  \n",
       "41064  Disney Speedstorm Season 4: Unveiling A Whole ...  \n",
       "47072  White House warns of ‘unprecedented’ Serbian t...  \n",
       "19792  White House warns of ‘unprecedented’ Serbian t...  \n",
       "6313   Don't trade stocks on what you're expecting fr...  \n",
       "...                                                  ...  \n",
       "6360   Dukes of Hazzard star John Schneider reveals '...  \n",
       "19916  Atrial fibrillation: Stress, insomnia linked t...  \n",
       "13000  DOJ contacted Hunter Biden, whistleblower team...  \n",
       "18     Will a rare strike threaten the 'buy Japan' mo...  \n",
       "34872  Starfield Director Todd Howard Praises Xbox In...  \n",
       "\n",
       "[46606 rows x 5 columns]"
      ]
     },
     "execution_count": 15,
     "metadata": {},
     "output_type": "execute_result"
    }
   ],
   "source": [
    "# Convert 'publishtime' to datetime format\n",
    "df['publishtime'] = pd.to_datetime(df['publishtime'])\n",
    "\n",
    "# Create a boolean mask named sept_records for the date range\n",
    "start_date = pd.to_datetime('2023-08-31 00:00:00')\n",
    "end_date = pd.to_datetime('2023-09-29 23:59:59')\n",
    "sept_records = (df['publishtime'] >= start_date) & (df['publishtime'] <= end_date)\n",
    "\n",
    "# Use the mask(sept_records) to select the records within the specified date range\n",
    "df= df[sept_records]\n",
    "\n",
    "# Reviewing the current DataFrame\n",
    "df"
   ]
  },
  {
   "cell_type": "markdown",
   "id": "1206d9aa",
   "metadata": {
    "papermill": {
     "duration": 0.014295,
     "end_time": "2023-11-03T02:31:05.590309",
     "exception": false,
     "start_time": "2023-11-03T02:31:05.576014",
     "status": "completed"
    },
    "tags": []
   },
   "source": [
    "Looks great. I think we're almost done. Let's save the current DataFrame into new CSV and JSON files for EDA in MySQL."
   ]
  },
  {
   "cell_type": "code",
   "execution_count": 16,
   "id": "3214dc23",
   "metadata": {
    "execution": {
     "iopub.execute_input": "2023-11-03T02:31:05.620632Z",
     "iopub.status.busy": "2023-11-03T02:31:05.620013Z",
     "iopub.status.idle": "2023-11-03T02:31:06.694693Z",
     "shell.execute_reply": "2023-11-03T02:31:06.693090Z"
    },
    "papermill": {
     "duration": 1.09339,
     "end_time": "2023-11-03T02:31:06.697710",
     "exception": false,
     "start_time": "2023-11-03T02:31:05.604320",
     "status": "completed"
    },
    "tags": []
   },
   "outputs": [],
   "source": [
    "# Use 'gn_sept' (Google News - September) as the new name for my CSV file\n",
    "new_name = 'gn_sept.csv'\n",
    "\n",
    "# Use the 'to_csv' method to save 'df' DataFrame to a CSV file\n",
    "df.to_csv(new_name, index=False)  # Set index=False to exclude the index column"
   ]
  },
  {
   "cell_type": "code",
   "execution_count": 17,
   "id": "8c59acbe",
   "metadata": {
    "execution": {
     "iopub.execute_input": "2023-11-03T02:31:06.729834Z",
     "iopub.status.busy": "2023-11-03T02:31:06.729389Z",
     "iopub.status.idle": "2023-11-03T02:31:07.016334Z",
     "shell.execute_reply": "2023-11-03T02:31:07.014626Z"
    },
    "papermill": {
     "duration": 0.306378,
     "end_time": "2023-11-03T02:31:07.019462",
     "exception": false,
     "start_time": "2023-11-03T02:31:06.713084",
     "status": "completed"
    },
    "tags": []
   },
   "outputs": [],
   "source": [
    "# Use 'gn_sept' (Google News - September) as the new name for my JSON file\n",
    "new_name2 = 'gn_sept.json'\n",
    "\n",
    "# Use the 'to_json' method to save the DataFrame to a JSON file\n",
    "df.to_json(new_name2, orient='records')"
   ]
  },
  {
   "cell_type": "markdown",
   "id": "93681893",
   "metadata": {
    "papermill": {
     "duration": 0.014295,
     "end_time": "2023-11-03T02:31:07.050847",
     "exception": false,
     "start_time": "2023-11-03T02:31:07.036552",
     "status": "completed"
    },
    "tags": []
   },
   "source": [
    "Seems like my MySQL Workbench is too laggy to import CSV or JSON files, so I will create a new text file. Then, I will manually copy the contents from the file and input them using queries in MySQL Workbench."
   ]
  },
  {
   "cell_type": "code",
   "execution_count": 18,
   "id": "ba73f70d",
   "metadata": {
    "execution": {
     "iopub.execute_input": "2023-11-03T02:31:07.083651Z",
     "iopub.status.busy": "2023-11-03T02:31:07.082624Z",
     "iopub.status.idle": "2023-11-03T02:31:11.954110Z",
     "shell.execute_reply": "2023-11-03T02:31:11.952743Z"
    },
    "papermill": {
     "duration": 4.891903,
     "end_time": "2023-11-03T02:31:11.957497",
     "exception": false,
     "start_time": "2023-11-03T02:31:07.065594",
     "status": "completed"
    },
    "tags": []
   },
   "outputs": [],
   "source": [
    "# Create an empty list 'y' to store the converted rows as tuples\n",
    "y = []\n",
    "\n",
    "# Loop through the rows of 'df' DataFrame\n",
    "for i in range(len(df)):\n",
    "    # Convert the row into a tuple\n",
    "    x = tuple(df.iloc[i])\n",
    "    # Append the tuple to the 'y' list\n",
    "    y.append(x)\n",
    "\n",
    "\n",
    "# Uncomment '#y' to view its contents\n",
    "#y"
   ]
  },
  {
   "cell_type": "code",
   "execution_count": 19,
   "id": "d8383a5e",
   "metadata": {
    "execution": {
     "iopub.execute_input": "2023-11-03T02:31:11.989743Z",
     "iopub.status.busy": "2023-11-03T02:31:11.989361Z",
     "iopub.status.idle": "2023-11-03T02:31:12.355151Z",
     "shell.execute_reply": "2023-11-03T02:31:12.353721Z"
    },
    "papermill": {
     "duration": 0.385963,
     "end_time": "2023-11-03T02:31:12.358410",
     "exception": false,
     "start_time": "2023-11-03T02:31:11.972447",
     "status": "completed"
    },
    "tags": []
   },
   "outputs": [],
   "source": [
    "# Create a text file 'gn_sept.txt' for writing\n",
    "file = open('gn_sept.txt', 'w')\n",
    "\n",
    "# Loop through the list of tuples and write each tuple to the text file\n",
    "for tuple in y:\n",
    "    file.write(str(tuple) + ',' + '\\n')\n",
    "\n",
    "# Close the text file to save the changes\n",
    "file.close()"
   ]
  },
  {
   "cell_type": "markdown",
   "id": "76290849",
   "metadata": {
    "papermill": {
     "duration": 0.015703,
     "end_time": "2023-11-03T02:31:12.389014",
     "exception": false,
     "start_time": "2023-11-03T02:31:12.373311",
     "status": "completed"
    },
    "tags": []
   },
   "source": [
    "Because I won't be using Python (Pandas) for my first EDA, this concludes my notebook. If you want to practice your EDA skills with this notebook, feel free to use it.\n",
    "\n",
    "\n",
    "\n",
    "\n",
    "\n",
    "Goodbye for now, and thank you for reading."
   ]
  },
  {
   "cell_type": "markdown",
   "id": "1a9411fe",
   "metadata": {
    "papermill": {
     "duration": 0.014399,
     "end_time": "2023-11-03T02:31:12.418128",
     "exception": false,
     "start_time": "2023-11-03T02:31:12.403729",
     "status": "completed"
    },
    "tags": []
   },
   "source": [
    "Note: I wrote this notebook before the October data update, so I didn't include the data for October."
   ]
  }
 ],
 "metadata": {
  "kernelspec": {
   "display_name": "Python 3",
   "language": "python",
   "name": "python3"
  },
  "language_info": {
   "codemirror_mode": {
    "name": "ipython",
    "version": 3
   },
   "file_extension": ".py",
   "mimetype": "text/x-python",
   "name": "python",
   "nbconvert_exporter": "python",
   "pygments_lexer": "ipython3",
   "version": "3.10.12"
  },
  "papermill": {
   "default_parameters": {},
   "duration": 14.581758,
   "end_time": "2023-11-03T02:31:13.155451",
   "environment_variables": {},
   "exception": null,
   "input_path": "__notebook__.ipynb",
   "output_path": "__notebook__.ipynb",
   "parameters": {},
   "start_time": "2023-11-03T02:30:58.573693",
   "version": "2.4.0"
  }
 },
 "nbformat": 4,
 "nbformat_minor": 5
}
